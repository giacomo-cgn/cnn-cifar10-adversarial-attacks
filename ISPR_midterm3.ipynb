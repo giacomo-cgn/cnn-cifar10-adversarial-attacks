{
  "metadata": {
    "kernelspec": {
      "language": "python",
      "display_name": "Python 3",
      "name": "python3"
    },
    "language_info": {
      "name": "python",
      "version": "3.7.12",
      "mimetype": "text/x-python",
      "codemirror_mode": {
        "name": "ipython",
        "version": 3
      },
      "pygments_lexer": "ipython3",
      "nbconvert_exporter": "python",
      "file_extension": ".py"
    },
    "colab": {
      "provenance": [],
      "include_colab_link": true
    },
    "accelerator": "GPU",
    "widgets": {
      "application/vnd.jupyter.widget-state+json": {
        "9f644ea598394aebb1a98f6b0e0ecdfa": {
          "model_module": "@jupyter-widgets/controls",
          "model_name": "HBoxModel",
          "model_module_version": "1.5.0",
          "state": {
            "_dom_classes": [],
            "_model_module": "@jupyter-widgets/controls",
            "_model_module_version": "1.5.0",
            "_model_name": "HBoxModel",
            "_view_count": null,
            "_view_module": "@jupyter-widgets/controls",
            "_view_module_version": "1.5.0",
            "_view_name": "HBoxView",
            "box_style": "",
            "children": [
              "IPY_MODEL_db1792f650fc40b99bc411dad74f4bed",
              "IPY_MODEL_d52e935e188549b4a8a85e2a14ca6486",
              "IPY_MODEL_632e7d2f4f5a45d8994163373548c962"
            ],
            "layout": "IPY_MODEL_e7d2f8bb61bc4226a3203c34de631a74"
          }
        },
        "db1792f650fc40b99bc411dad74f4bed": {
          "model_module": "@jupyter-widgets/controls",
          "model_name": "HTMLModel",
          "model_module_version": "1.5.0",
          "state": {
            "_dom_classes": [],
            "_model_module": "@jupyter-widgets/controls",
            "_model_module_version": "1.5.0",
            "_model_name": "HTMLModel",
            "_view_count": null,
            "_view_module": "@jupyter-widgets/controls",
            "_view_module_version": "1.5.0",
            "_view_name": "HTMLView",
            "description": "",
            "description_tooltip": null,
            "layout": "IPY_MODEL_7d340d15c7c342da8263884e67e1000f",
            "placeholder": "​",
            "style": "IPY_MODEL_169de69b73ad4fe19505a4614e75ac94",
            "value": ""
          }
        },
        "d52e935e188549b4a8a85e2a14ca6486": {
          "model_module": "@jupyter-widgets/controls",
          "model_name": "FloatProgressModel",
          "model_module_version": "1.5.0",
          "state": {
            "_dom_classes": [],
            "_model_module": "@jupyter-widgets/controls",
            "_model_module_version": "1.5.0",
            "_model_name": "FloatProgressModel",
            "_view_count": null,
            "_view_module": "@jupyter-widgets/controls",
            "_view_module_version": "1.5.0",
            "_view_name": "ProgressView",
            "bar_style": "success",
            "description": "",
            "description_tooltip": null,
            "layout": "IPY_MODEL_8edb6152ffc84e1eba6c4dc8d13858ed",
            "max": 170498071,
            "min": 0,
            "orientation": "horizontal",
            "style": "IPY_MODEL_f69ae851474f4c5c9470b6fec57bd1e4",
            "value": 170498071
          }
        },
        "632e7d2f4f5a45d8994163373548c962": {
          "model_module": "@jupyter-widgets/controls",
          "model_name": "HTMLModel",
          "model_module_version": "1.5.0",
          "state": {
            "_dom_classes": [],
            "_model_module": "@jupyter-widgets/controls",
            "_model_module_version": "1.5.0",
            "_model_name": "HTMLModel",
            "_view_count": null,
            "_view_module": "@jupyter-widgets/controls",
            "_view_module_version": "1.5.0",
            "_view_name": "HTMLView",
            "description": "",
            "description_tooltip": null,
            "layout": "IPY_MODEL_7da091cafceb47ef84d18028064ac314",
            "placeholder": "​",
            "style": "IPY_MODEL_995740a6e0b6408e9e6cf343e7f75fe3",
            "value": " 170499072/? [00:02&lt;00:00, 83583492.13it/s]"
          }
        },
        "e7d2f8bb61bc4226a3203c34de631a74": {
          "model_module": "@jupyter-widgets/base",
          "model_name": "LayoutModel",
          "model_module_version": "1.2.0",
          "state": {
            "_model_module": "@jupyter-widgets/base",
            "_model_module_version": "1.2.0",
            "_model_name": "LayoutModel",
            "_view_count": null,
            "_view_module": "@jupyter-widgets/base",
            "_view_module_version": "1.2.0",
            "_view_name": "LayoutView",
            "align_content": null,
            "align_items": null,
            "align_self": null,
            "border": null,
            "bottom": null,
            "display": null,
            "flex": null,
            "flex_flow": null,
            "grid_area": null,
            "grid_auto_columns": null,
            "grid_auto_flow": null,
            "grid_auto_rows": null,
            "grid_column": null,
            "grid_gap": null,
            "grid_row": null,
            "grid_template_areas": null,
            "grid_template_columns": null,
            "grid_template_rows": null,
            "height": null,
            "justify_content": null,
            "justify_items": null,
            "left": null,
            "margin": null,
            "max_height": null,
            "max_width": null,
            "min_height": null,
            "min_width": null,
            "object_fit": null,
            "object_position": null,
            "order": null,
            "overflow": null,
            "overflow_x": null,
            "overflow_y": null,
            "padding": null,
            "right": null,
            "top": null,
            "visibility": null,
            "width": null
          }
        },
        "7d340d15c7c342da8263884e67e1000f": {
          "model_module": "@jupyter-widgets/base",
          "model_name": "LayoutModel",
          "model_module_version": "1.2.0",
          "state": {
            "_model_module": "@jupyter-widgets/base",
            "_model_module_version": "1.2.0",
            "_model_name": "LayoutModel",
            "_view_count": null,
            "_view_module": "@jupyter-widgets/base",
            "_view_module_version": "1.2.0",
            "_view_name": "LayoutView",
            "align_content": null,
            "align_items": null,
            "align_self": null,
            "border": null,
            "bottom": null,
            "display": null,
            "flex": null,
            "flex_flow": null,
            "grid_area": null,
            "grid_auto_columns": null,
            "grid_auto_flow": null,
            "grid_auto_rows": null,
            "grid_column": null,
            "grid_gap": null,
            "grid_row": null,
            "grid_template_areas": null,
            "grid_template_columns": null,
            "grid_template_rows": null,
            "height": null,
            "justify_content": null,
            "justify_items": null,
            "left": null,
            "margin": null,
            "max_height": null,
            "max_width": null,
            "min_height": null,
            "min_width": null,
            "object_fit": null,
            "object_position": null,
            "order": null,
            "overflow": null,
            "overflow_x": null,
            "overflow_y": null,
            "padding": null,
            "right": null,
            "top": null,
            "visibility": null,
            "width": null
          }
        },
        "169de69b73ad4fe19505a4614e75ac94": {
          "model_module": "@jupyter-widgets/controls",
          "model_name": "DescriptionStyleModel",
          "model_module_version": "1.5.0",
          "state": {
            "_model_module": "@jupyter-widgets/controls",
            "_model_module_version": "1.5.0",
            "_model_name": "DescriptionStyleModel",
            "_view_count": null,
            "_view_module": "@jupyter-widgets/base",
            "_view_module_version": "1.2.0",
            "_view_name": "StyleView",
            "description_width": ""
          }
        },
        "8edb6152ffc84e1eba6c4dc8d13858ed": {
          "model_module": "@jupyter-widgets/base",
          "model_name": "LayoutModel",
          "model_module_version": "1.2.0",
          "state": {
            "_model_module": "@jupyter-widgets/base",
            "_model_module_version": "1.2.0",
            "_model_name": "LayoutModel",
            "_view_count": null,
            "_view_module": "@jupyter-widgets/base",
            "_view_module_version": "1.2.0",
            "_view_name": "LayoutView",
            "align_content": null,
            "align_items": null,
            "align_self": null,
            "border": null,
            "bottom": null,
            "display": null,
            "flex": null,
            "flex_flow": null,
            "grid_area": null,
            "grid_auto_columns": null,
            "grid_auto_flow": null,
            "grid_auto_rows": null,
            "grid_column": null,
            "grid_gap": null,
            "grid_row": null,
            "grid_template_areas": null,
            "grid_template_columns": null,
            "grid_template_rows": null,
            "height": null,
            "justify_content": null,
            "justify_items": null,
            "left": null,
            "margin": null,
            "max_height": null,
            "max_width": null,
            "min_height": null,
            "min_width": null,
            "object_fit": null,
            "object_position": null,
            "order": null,
            "overflow": null,
            "overflow_x": null,
            "overflow_y": null,
            "padding": null,
            "right": null,
            "top": null,
            "visibility": null,
            "width": null
          }
        },
        "f69ae851474f4c5c9470b6fec57bd1e4": {
          "model_module": "@jupyter-widgets/controls",
          "model_name": "ProgressStyleModel",
          "model_module_version": "1.5.0",
          "state": {
            "_model_module": "@jupyter-widgets/controls",
            "_model_module_version": "1.5.0",
            "_model_name": "ProgressStyleModel",
            "_view_count": null,
            "_view_module": "@jupyter-widgets/base",
            "_view_module_version": "1.2.0",
            "_view_name": "StyleView",
            "bar_color": null,
            "description_width": ""
          }
        },
        "7da091cafceb47ef84d18028064ac314": {
          "model_module": "@jupyter-widgets/base",
          "model_name": "LayoutModel",
          "model_module_version": "1.2.0",
          "state": {
            "_model_module": "@jupyter-widgets/base",
            "_model_module_version": "1.2.0",
            "_model_name": "LayoutModel",
            "_view_count": null,
            "_view_module": "@jupyter-widgets/base",
            "_view_module_version": "1.2.0",
            "_view_name": "LayoutView",
            "align_content": null,
            "align_items": null,
            "align_self": null,
            "border": null,
            "bottom": null,
            "display": null,
            "flex": null,
            "flex_flow": null,
            "grid_area": null,
            "grid_auto_columns": null,
            "grid_auto_flow": null,
            "grid_auto_rows": null,
            "grid_column": null,
            "grid_gap": null,
            "grid_row": null,
            "grid_template_areas": null,
            "grid_template_columns": null,
            "grid_template_rows": null,
            "height": null,
            "justify_content": null,
            "justify_items": null,
            "left": null,
            "margin": null,
            "max_height": null,
            "max_width": null,
            "min_height": null,
            "min_width": null,
            "object_fit": null,
            "object_position": null,
            "order": null,
            "overflow": null,
            "overflow_x": null,
            "overflow_y": null,
            "padding": null,
            "right": null,
            "top": null,
            "visibility": null,
            "width": null
          }
        },
        "995740a6e0b6408e9e6cf343e7f75fe3": {
          "model_module": "@jupyter-widgets/controls",
          "model_name": "DescriptionStyleModel",
          "model_module_version": "1.5.0",
          "state": {
            "_model_module": "@jupyter-widgets/controls",
            "_model_module_version": "1.5.0",
            "_model_name": "DescriptionStyleModel",
            "_view_count": null,
            "_view_module": "@jupyter-widgets/base",
            "_view_module_version": "1.2.0",
            "_view_name": "StyleView",
            "description_width": ""
          }
        }
      }
    }
  },
  "nbformat_minor": 0,
  "nbformat": 4,
  "cells": [
    {
      "cell_type": "markdown",
      "metadata": {
        "id": "view-in-github",
        "colab_type": "text"
      },
      "source": [
        "<a href=\"https://colab.research.google.com/github/giacomo-cgn/cnn-cifar10-adversarial-attacks/blob/main/ISPR_midterm3.ipynb\" target=\"_parent\"><img src=\"https://colab.research.google.com/assets/colab-badge.svg\" alt=\"Open In Colab\"/></a>"
      ]
    },
    {
      "cell_type": "markdown",
      "source": [
        "\n",
        "# Adversarial attacks on CNN for CIFAR10 classification"
      ],
      "metadata": {
        "id": "eUHdZu6hCCCC"
      }
    },
    {
      "cell_type": "markdown",
      "source": [
        "*Giacomo Cignoni*"
      ],
      "metadata": {
        "id": "G_-DSfNL2I8N"
      }
    },
    {
      "cell_type": "markdown",
      "source": [
        "\n",
        "\n",
        "1.   Build a simple parametrized CNN with Pytorch\n",
        "2.   Train the CNN on CIFAR10 dataset and perform a gridsearch on some hyperparameters.\n",
        "\n",
        "3.    Perform adversarial attacks with Cleverhans\n",
        "\n",
        "\n",
        "\n"
      ],
      "metadata": {
        "id": "AqDcIBJXS8PB"
      }
    },
    {
      "cell_type": "markdown",
      "source": [
        "# CNN building"
      ],
      "metadata": {
        "id": "WCNW9oOWCHzc"
      }
    },
    {
      "cell_type": "markdown",
      "source": [
        "A simple CNN for the CIFAR10 dataset is built with PyTorch. The dataset is imported through PyTorch itself."
      ],
      "metadata": {
        "id": "EG5D4i0QCP-i"
      }
    },
    {
      "cell_type": "code",
      "source": [
        "import torch\n",
        "import torch.nn as nn\n",
        "import torch.nn.functional as F\n",
        "import torch.optim as optim\n",
        "from torchvision import datasets, transforms\n",
        "from sklearn.model_selection import train_test_split\n",
        "import math\n",
        "from torch.nn import parameter\n",
        "import numpy as np\n",
        "import matplotlib.pyplot as plt"
      ],
      "metadata": {
        "id": "yOMf8S4IsDm2",
        "execution": {
          "iopub.status.busy": "2022-05-15T19:56:22.525651Z",
          "iopub.execute_input": "2022-05-15T19:56:22.525905Z",
          "iopub.status.idle": "2022-05-15T19:56:22.530847Z",
          "shell.execute_reply.started": "2022-05-15T19:56:22.525874Z",
          "shell.execute_reply": "2022-05-15T19:56:22.530203Z"
        },
        "trusted": true
      },
      "execution_count": null,
      "outputs": []
    },
    {
      "cell_type": "markdown",
      "source": [
        "The datset is split in mini-batches of small sizes (8 images each) as a small number of element in each batch is more favourable for a CNN for CIFAR, as explained by Masters and Luschi in \"Revisiting Small Batch Training for Deep Neural Networks\". (https://www.arxiv-vanity.com/papers/1804.07612/#S3)\n",
        "\n",
        "The dataset is split in 40000 images for training, 10000 for validation in the successive grid search, and another 10000 for the final testing. The split of the development set in validation and training was done manually, but stil preserving the distribution of the classes thanks to the Sklearn function \"train_test_split\".\n",
        "\n",
        "Normalization was applied to the dataset in order to obtain better results; the values for normalization of CIFAR10 have been taken from https://github.com/kuangliu/pytorch-cifar/issues/19, as it is a famous dataset and so avoided the their computation."
      ],
      "metadata": {
        "id": "u5Fo6MJcCM22"
      }
    },
    {
      "cell_type": "code",
      "source": [
        "transform = transforms.Compose(\n",
        "    [transforms.ToTensor(),\n",
        "     transforms.Normalize((0.4914, 0.4822, 0.4465), (0.247, 0.243, 0.261))])\n",
        "\n",
        "use_cuda = torch.cuda.is_available()\n",
        "device = torch.device(\"cuda\" if use_cuda else \"cpu\")\n",
        "print(device)\n",
        "\n",
        "batch_size = 8\n",
        "\n",
        "num_workers = 2\n",
        "\n",
        "pin_memory = False\n",
        "if use_cuda:\n",
        "  pin_memory = True\n",
        "    \n",
        "devel_set = datasets.CIFAR10(root='./data', train=True,\n",
        "                                        download=True, transform=transform)\n",
        "devel_loader = torch.utils.data.DataLoader(devel_set, batch_size=batch_size,\n",
        "                                          shuffle=True, num_workers=num_workers, pin_memory=pin_memory)\n",
        "\n",
        "\n",
        "[train_set, val_set] = train_test_split(devel_set, test_size=0.2, stratify=devel_set.targets)\n",
        "\n",
        "\n",
        "train_loader = torch.utils.data.DataLoader(train_set, batch_size=batch_size,\n",
        "                                          shuffle=True, num_workers=num_workers, pin_memory=pin_memory)\n",
        "\n",
        "val_loader = torch.utils.data.DataLoader(val_set, batch_size=batch_size,\n",
        "                                          shuffle=True, num_workers=num_workers, pin_memory=pin_memory)\n",
        "\n",
        "test_set = datasets.CIFAR10(root='./data', train=False,\n",
        "                                       download=True, transform=transform)\n",
        "test_loader = torch.utils.data.DataLoader(test_set, batch_size=batch_size,\n",
        "                                         shuffle=False, num_workers=num_workers, pin_memory=pin_memory)\n",
        "\n",
        "classes = ('plane', 'car', 'bird', 'cat',\n",
        "           'deer', 'dog', 'frog', 'horse', 'ship', 'truck')"
      ],
      "metadata": {
        "id": "C6WQAJqd5jSl",
        "outputId": "f4d9fda6-e58f-4278-f764-6cad3be6018e",
        "execution": {
          "iopub.status.busy": "2022-05-15T18:12:27.743947Z",
          "iopub.execute_input": "2022-05-15T18:12:27.744247Z",
          "iopub.status.idle": "2022-05-15T18:12:48.435174Z",
          "shell.execute_reply.started": "2022-05-15T18:12:27.744219Z",
          "shell.execute_reply": "2022-05-15T18:12:48.434363Z"
        },
        "trusted": true,
        "colab": {
          "base_uri": "https://localhost:8080/",
          "height": 121,
          "referenced_widgets": [
            "9f644ea598394aebb1a98f6b0e0ecdfa",
            "db1792f650fc40b99bc411dad74f4bed",
            "d52e935e188549b4a8a85e2a14ca6486",
            "632e7d2f4f5a45d8994163373548c962",
            "e7d2f8bb61bc4226a3203c34de631a74",
            "7d340d15c7c342da8263884e67e1000f",
            "169de69b73ad4fe19505a4614e75ac94",
            "8edb6152ffc84e1eba6c4dc8d13858ed",
            "f69ae851474f4c5c9470b6fec57bd1e4",
            "7da091cafceb47ef84d18028064ac314",
            "995740a6e0b6408e9e6cf343e7f75fe3"
          ]
        }
      },
      "execution_count": null,
      "outputs": [
        {
          "output_type": "stream",
          "name": "stdout",
          "text": [
            "cpu\n",
            "Downloading https://www.cs.toronto.edu/~kriz/cifar-10-python.tar.gz to ./data/cifar-10-python.tar.gz\n"
          ]
        },
        {
          "output_type": "display_data",
          "data": {
            "text/plain": [
              "  0%|          | 0/170498071 [00:00<?, ?it/s]"
            ],
            "application/vnd.jupyter.widget-view+json": {
              "version_major": 2,
              "version_minor": 0,
              "model_id": "9f644ea598394aebb1a98f6b0e0ecdfa"
            }
          },
          "metadata": {}
        },
        {
          "output_type": "stream",
          "name": "stdout",
          "text": [
            "Extracting ./data/cifar-10-python.tar.gz to ./data\n",
            "Files already downloaded and verified\n"
          ]
        }
      ]
    },
    {
      "cell_type": "markdown",
      "source": [
        "A CNN class is defined, with 2-4 convolutional layers, 2-3 fully connected layers, max-pooling and the ability to enable dropout layers between both fully connected and convolutional layers.\n",
        "\n",
        "The number of features detected in each convolutional layer can be chosen. A small fixed size kernel of size 3x3 with stride 1 was chosen because of the small size of the datset images."
      ],
      "metadata": {
        "id": "mC3CsC5FEh04"
      }
    },
    {
      "cell_type": "code",
      "source": [
        "class CNN(nn.Module):\n",
        "    def __init__(self, conv_layers_features = [], drop_conv=False, num_fc_layers=2):\n",
        "        super(CNN, self).__init__()\n",
        "        self.conv_layers_features = conv_layers_features\n",
        "        self.drop_conv = drop_conv\n",
        "        self.conv_arr = nn.ModuleList()\n",
        "        self.num_fc_layers = num_fc_layers\n",
        "\n",
        "        input_features = 3\n",
        "        feature_map_size = 32 # Initial image is 32x32\n",
        "        for layer_features in self.conv_layers_features:\n",
        "          self.conv_arr.append(nn.Conv2d(input_features, layer_features, 3))\n",
        "          input_features = layer_features\n",
        "          feature_map_size = math.floor((feature_map_size - 2)/2)\n",
        "\n",
        "        self.pool = nn.MaxPool2d(2, 2)\n",
        "\n",
        "        if (num_fc_layers == 3):\n",
        "          self.fc1 = nn.Linear(feature_map_size*feature_map_size*input_features, 1024)\n",
        "          self.fc2 = nn.Linear(1024, 128)\n",
        "          self.fc3 = nn.Linear(128, 10)\n",
        "        else:\n",
        "          self.fc1 = nn.Linear(feature_map_size*feature_map_size*input_features, 256)\n",
        "          self.fc2 = nn.Linear(256, 10)\n",
        "\n",
        "        self.dropout_low = nn.Dropout(0.25)\n",
        "        self.dropout_high = nn.Dropout(0.5)\n",
        "\n",
        "\n",
        "    def forward(self, x):\n",
        "      for conv in self.conv_arr:\n",
        "        x = conv(x)\n",
        "        x = F.relu(x)\n",
        "        x = self.pool(x)\n",
        "        if self.drop_conv:\n",
        "          x = self.dropout_low(x)\n",
        "\n",
        "      if not self.drop_conv:  # Do dropout only at the end of conv layers if dropout not selected\n",
        "        x = self.dropout_low(x)\n",
        "\n",
        "      x = torch.flatten(x, 1)\n",
        "\n",
        "      if (self.num_fc_layers == 3):\n",
        "        x = self.fc1(x)\n",
        "        x = F.relu(x)\n",
        "        x = self.dropout_low(x)\n",
        "        x = self.fc2(x)\n",
        "        x = self.dropout_low(x)\n",
        "        x = self.fc3(x)\n",
        "      else:\n",
        "        x = self.fc1(x)\n",
        "        x = F.relu(x)\n",
        "        x = self.dropout_low(x)\n",
        "        x = self.fc2(x)\n",
        "      output = F.log_softmax(x, dim=1)\n",
        "      return output"
      ],
      "metadata": {
        "id": "OjdH3Fsd5jdW",
        "execution": {
          "iopub.status.busy": "2022-05-15T18:12:48.436640Z",
          "iopub.execute_input": "2022-05-15T18:12:48.436900Z",
          "iopub.status.idle": "2022-05-15T18:12:48.449843Z",
          "shell.execute_reply.started": "2022-05-15T18:12:48.436866Z",
          "shell.execute_reply": "2022-05-15T18:12:48.449076Z"
        },
        "trusted": true
      },
      "execution_count": null,
      "outputs": []
    },
    {
      "cell_type": "markdown",
      "source": [
        "This function executes training on the model for 1 epoch"
      ],
      "metadata": {
        "id": "AKYFOutAE-df"
      }
    },
    {
      "cell_type": "code",
      "source": [
        "def train(model, device, train_loader, optimizer, epoch):\n",
        "    model.train()\n",
        "    criterion = nn.CrossEntropyLoss()\n",
        "    for batch_idx, (data, target) in enumerate(train_loader):\n",
        "        data, target = data.to(device), target.to(device)\n",
        "        optimizer.zero_grad()\n",
        "        output = model(data)\n",
        "        loss = criterion(output, target)\n",
        "        loss.backward()\n",
        "        optimizer.step()\n",
        "        if batch_idx % 1000 == 0:\n",
        "            print('Train Epoch: {} [{}/{} ({:.0f}%)]\\tLoss: {:.6f}'.format(\n",
        "                epoch, batch_idx * len(data), len(train_loader.dataset),\n",
        "                100. * batch_idx / len(train_loader), loss.item()))\n",
        "            "
      ],
      "metadata": {
        "id": "0jMqh_CUCE3L",
        "execution": {
          "iopub.status.busy": "2022-05-15T18:14:57.866622Z",
          "iopub.execute_input": "2022-05-15T18:14:57.866912Z",
          "iopub.status.idle": "2022-05-15T18:14:57.874136Z",
          "shell.execute_reply.started": "2022-05-15T18:14:57.866880Z",
          "shell.execute_reply": "2022-05-15T18:14:57.873318Z"
        },
        "trusted": true
      },
      "execution_count": null,
      "outputs": []
    },
    {
      "cell_type": "markdown",
      "source": [
        "This function executes the predict phase on the model (both for validation and test phases)"
      ],
      "metadata": {
        "id": "1GQHfC0JFGK8"
      }
    },
    {
      "cell_type": "code",
      "source": [
        "def test(cnn, device, test_loader, is_validation=False):\n",
        "    cnn.eval()\n",
        "    criterion = nn.CrossEntropyLoss()\n",
        "    test_loss = 0\n",
        "    correct = 0\n",
        "    with torch.no_grad():\n",
        "        for data, target in test_loader:\n",
        "            data, target = data.to(device), target.to(device)\n",
        "            output = cnn(data)\n",
        "            test_loss += criterion(output, target).item()  # sum up batch loss\n",
        "            pred = output.argmax(dim=1, keepdim=True)  # get the index of the max log-probability\n",
        "            correct += pred.eq(target.view_as(pred)).sum().item()\n",
        "\n",
        "    test_loss /= len(test_loader.dataset)\n",
        "    test_acc = correct / len(test_loader.dataset)\n",
        "\n",
        "    set_name = 'Test'\n",
        "    if is_validation:\n",
        "      set_name = 'Validation'\n",
        "\n",
        "    print('\\n'+ set_name +' set: Average loss: {:.4f}, Accuracy: {}/{} ({:.0f}%)\\n'.format(\n",
        "        test_loss, correct, len(test_loader.dataset),\n",
        "        100. * test_acc))\n",
        "    return test_loss, test_acc\n"
      ],
      "metadata": {
        "id": "uH2zBAjLg71w",
        "execution": {
          "iopub.status.busy": "2022-05-15T20:48:58.028522Z",
          "iopub.execute_input": "2022-05-15T20:48:58.028794Z",
          "iopub.status.idle": "2022-05-15T20:48:58.037582Z",
          "shell.execute_reply.started": "2022-05-15T20:48:58.028759Z",
          "shell.execute_reply": "2022-05-15T20:48:58.036788Z"
        },
        "trusted": true
      },
      "execution_count": null,
      "outputs": []
    },
    {
      "cell_type": "markdown",
      "source": [
        "This function defines a simple extensive grid search with testing on separated validation set, in order to find and save the model hyperparameters which gives the best accuracy on the validation data. K-fold cross validation was not executed as too expensive to run.\n",
        "\n",
        "Adam was chosen as the optimazer for its versatitlity and a fixed number of 10 epochs was chosen after some preliminary trials."
      ],
      "metadata": {
        "id": "VtlQ0MX1FVBg"
      }
    },
    {
      "cell_type": "code",
      "source": [
        "def grid_search(conv_layers_features_arr, drop_conv_arr, num_fc_layers_arr):\n",
        "  best_acc = 0\n",
        "  for conv_layers_features in conv_layers_features_arr:\n",
        "    for drop_conv in drop_conv_arr:\n",
        "      for num_fc_layers in num_fc_layers_arr:\n",
        "        print('HPERPARAMS: conv_layers_features', conv_layers_features, ', drop_conv', drop_conv, ', num_fc_layers', num_fc_layers)\n",
        "\n",
        "\n",
        "        num_epochs = 10\n",
        "\n",
        "        cnn = CNN(conv_layers_features=conv_layers_features, drop_conv=drop_conv, num_fc_layers=num_fc_layers).to(device)\n",
        "\n",
        "        optimizer = optim.Adam(cnn.parameters())\n",
        "\n",
        "        for epoch in range(num_epochs):\n",
        "          train(cnn, device, train_loader, optimizer, epoch)\n",
        "          val_loss, val_acc = test(cnn, device, val_loader, is_validation=True)\n",
        "          \n",
        "        if val_acc > best_acc:\n",
        "          best_acc = val_acc\n",
        "          best_cnn = cnn\n",
        "          best_conv_layers_features = conv_layers_features\n",
        "          best_drop_conv = drop_conv\n",
        "          num_fc_layers = num_fc_layers\n",
        "  return best_acc, best_cnn, best_conv_layers_features, best_drop_conv, num_fc_layers"
      ],
      "metadata": {
        "id": "0l7k79GuJo6C",
        "execution": {
          "iopub.status.busy": "2022-05-15T18:12:48.477660Z",
          "iopub.execute_input": "2022-05-15T18:12:48.478381Z",
          "iopub.status.idle": "2022-05-15T18:12:48.487876Z",
          "shell.execute_reply.started": "2022-05-15T18:12:48.478346Z",
          "shell.execute_reply": "2022-05-15T18:12:48.487177Z"
        },
        "trusted": true
      },
      "execution_count": null,
      "outputs": []
    },
    {
      "cell_type": "markdown",
      "source": [
        "Here the hyperparameters to try in the grid search are defined.\n",
        "\n",
        "Each element of `conv_layers_features_arr` is an array containing the number of features detected in each convolutional layer in order."
      ],
      "metadata": {
        "id": "OQjCI8qQF5gK"
      }
    },
    {
      "cell_type": "code",
      "source": [
        "save_model = True\n",
        "\n",
        "conv_layers_features_arr = [[32, 128], [32, 128, 512], [32, 256], [64, 128, 512]]\n",
        "drop_conv_arr = [True, False]\n",
        "num_fc_layers = [2, 3]\n",
        "\n",
        "val_acc, cnn, conv_layers_features, drop_conv, num_fc_layers = grid_search(conv_layers_features_arr, drop_conv_arr, num_fc_layers)\n",
        "\n",
        "if save_model:\n",
        "    torch.save(cnn.state_dict(), \"cifar_cnn.pt\")"
      ],
      "metadata": {
        "id": "4GhYl5eshHmx",
        "execution": {
          "iopub.status.busy": "2022-05-15T18:15:04.059950Z",
          "iopub.execute_input": "2022-05-15T18:15:04.060240Z",
          "iopub.status.idle": "2022-05-15T19:33:09.298509Z",
          "shell.execute_reply.started": "2022-05-15T18:15:04.060212Z",
          "shell.execute_reply": "2022-05-15T19:33:09.297668Z"
        },
        "trusted": true
      },
      "execution_count": null,
      "outputs": []
    },
    {
      "cell_type": "markdown",
      "source": [
        "The best CNN has 3 convolutional layers with  32, 128 and 512 features, has no dropout between the convolutional layers and has 3 fully connected layers at the end. It reaches an accuracy of 72.84% on the validation set"
      ],
      "metadata": {
        "id": "eofkd1rcGBxd"
      }
    },
    {
      "cell_type": "code",
      "source": [
        "print(val_acc, conv_layers_features, drop_conv, num_fc_layers)"
      ],
      "metadata": {
        "id": "AurkqvEhh1fy",
        "execution": {
          "iopub.status.busy": "2022-05-15T19:41:44.108169Z",
          "iopub.execute_input": "2022-05-15T19:41:44.108507Z",
          "iopub.status.idle": "2022-05-15T19:41:44.114710Z",
          "shell.execute_reply.started": "2022-05-15T19:41:44.108466Z",
          "shell.execute_reply": "2022-05-15T19:41:44.114024Z"
        },
        "trusted": true
      },
      "execution_count": null,
      "outputs": []
    },
    {
      "cell_type": "markdown",
      "source": [
        "The found hyperparameters are used to execute a retrain on the whole development set (training + validation sets)."
      ],
      "metadata": {
        "id": "Ri6dAKxEUQDP"
      }
    },
    {
      "cell_type": "code",
      "source": [
        "num_epochs = 10\n",
        "conv_layers_features = [32, 128, 512]\n",
        "drop_conv = False\n",
        "num_fc_layers = 3\n",
        "\n",
        "cnn = CNN(conv_layers_features=conv_layers_features, drop_conv=drop_conv, num_fc_layers=num_fc_layers).to(device)\n",
        "\n",
        "optimizer = optim.Adam(cnn.parameters())\n",
        "\n",
        "for epoch in range(num_epochs):\n",
        "  train(cnn, device, devel_loader, optimizer, epoch)"
      ],
      "metadata": {
        "id": "oi2NEDRLUPKU",
        "execution": {
          "iopub.status.busy": "2022-05-15T19:42:12.784718Z",
          "iopub.execute_input": "2022-05-15T19:42:12.785361Z",
          "iopub.status.idle": "2022-05-15T19:49:46.515516Z",
          "shell.execute_reply.started": "2022-05-15T19:42:12.785325Z",
          "shell.execute_reply": "2022-05-15T19:49:46.514668Z"
        },
        "trusted": true,
        "colab": {
          "base_uri": "https://localhost:8080/"
        },
        "outputId": "3a411189-59f4-4b5d-96fd-bfd06e891ef3"
      },
      "execution_count": null,
      "outputs": [
        {
          "output_type": "stream",
          "name": "stdout",
          "text": [
            "Train Epoch: 0 [0/50000 (0%)]\tLoss: 2.293936\n",
            "Train Epoch: 0 [8000/50000 (16%)]\tLoss: 1.615387\n",
            "Train Epoch: 0 [16000/50000 (32%)]\tLoss: 1.400039\n",
            "Train Epoch: 0 [24000/50000 (48%)]\tLoss: 1.139404\n",
            "Train Epoch: 0 [32000/50000 (64%)]\tLoss: 1.277186\n",
            "Train Epoch: 0 [40000/50000 (80%)]\tLoss: 0.937723\n",
            "Train Epoch: 0 [48000/50000 (96%)]\tLoss: 1.121689\n",
            "Train Epoch: 1 [0/50000 (0%)]\tLoss: 1.507894\n",
            "Train Epoch: 1 [8000/50000 (16%)]\tLoss: 1.358314\n",
            "Train Epoch: 1 [16000/50000 (32%)]\tLoss: 0.410676\n",
            "Train Epoch: 1 [24000/50000 (48%)]\tLoss: 0.791027\n",
            "Train Epoch: 1 [32000/50000 (64%)]\tLoss: 1.042684\n",
            "Train Epoch: 1 [40000/50000 (80%)]\tLoss: 0.887668\n",
            "Train Epoch: 1 [48000/50000 (96%)]\tLoss: 1.412907\n",
            "Train Epoch: 2 [0/50000 (0%)]\tLoss: 1.891843\n",
            "Train Epoch: 2 [8000/50000 (16%)]\tLoss: 1.290987\n",
            "Train Epoch: 2 [16000/50000 (32%)]\tLoss: 0.387417\n",
            "Train Epoch: 2 [24000/50000 (48%)]\tLoss: 1.145666\n",
            "Train Epoch: 2 [32000/50000 (64%)]\tLoss: 0.743750\n",
            "Train Epoch: 2 [40000/50000 (80%)]\tLoss: 0.549402\n",
            "Train Epoch: 2 [48000/50000 (96%)]\tLoss: 1.261472\n",
            "Train Epoch: 3 [0/50000 (0%)]\tLoss: 1.420495\n",
            "Train Epoch: 3 [8000/50000 (16%)]\tLoss: 0.887648\n",
            "Train Epoch: 3 [16000/50000 (32%)]\tLoss: 0.467737\n",
            "Train Epoch: 3 [24000/50000 (48%)]\tLoss: 1.443180\n",
            "Train Epoch: 3 [32000/50000 (64%)]\tLoss: 0.832814\n",
            "Train Epoch: 3 [40000/50000 (80%)]\tLoss: 0.819404\n",
            "Train Epoch: 3 [48000/50000 (96%)]\tLoss: 1.199917\n",
            "Train Epoch: 4 [0/50000 (0%)]\tLoss: 1.001413\n",
            "Train Epoch: 4 [8000/50000 (16%)]\tLoss: 0.641697\n",
            "Train Epoch: 4 [16000/50000 (32%)]\tLoss: 0.994742\n",
            "Train Epoch: 4 [24000/50000 (48%)]\tLoss: 0.628138\n",
            "Train Epoch: 4 [32000/50000 (64%)]\tLoss: 1.946146\n",
            "Train Epoch: 4 [40000/50000 (80%)]\tLoss: 1.259290\n",
            "Train Epoch: 4 [48000/50000 (96%)]\tLoss: 0.752372\n",
            "Train Epoch: 5 [0/50000 (0%)]\tLoss: 1.205482\n",
            "Train Epoch: 5 [8000/50000 (16%)]\tLoss: 0.813833\n",
            "Train Epoch: 5 [16000/50000 (32%)]\tLoss: 1.650893\n",
            "Train Epoch: 5 [24000/50000 (48%)]\tLoss: 0.982082\n",
            "Train Epoch: 5 [32000/50000 (64%)]\tLoss: 0.492726\n",
            "Train Epoch: 5 [40000/50000 (80%)]\tLoss: 1.422801\n",
            "Train Epoch: 5 [48000/50000 (96%)]\tLoss: 1.801059\n",
            "Train Epoch: 6 [0/50000 (0%)]\tLoss: 0.967947\n",
            "Train Epoch: 6 [8000/50000 (16%)]\tLoss: 1.076766\n",
            "Train Epoch: 6 [16000/50000 (32%)]\tLoss: 0.534580\n",
            "Train Epoch: 6 [24000/50000 (48%)]\tLoss: 0.608066\n",
            "Train Epoch: 6 [32000/50000 (64%)]\tLoss: 1.044047\n",
            "Train Epoch: 6 [40000/50000 (80%)]\tLoss: 1.094867\n",
            "Train Epoch: 6 [48000/50000 (96%)]\tLoss: 1.658898\n",
            "Train Epoch: 7 [0/50000 (0%)]\tLoss: 0.427837\n",
            "Train Epoch: 7 [8000/50000 (16%)]\tLoss: 0.633567\n",
            "Train Epoch: 7 [16000/50000 (32%)]\tLoss: 1.442691\n",
            "Train Epoch: 7 [24000/50000 (48%)]\tLoss: 0.544792\n",
            "Train Epoch: 7 [32000/50000 (64%)]\tLoss: 1.234923\n",
            "Train Epoch: 7 [40000/50000 (80%)]\tLoss: 0.319523\n",
            "Train Epoch: 7 [48000/50000 (96%)]\tLoss: 0.535315\n",
            "Train Epoch: 8 [0/50000 (0%)]\tLoss: 0.908529\n",
            "Train Epoch: 8 [8000/50000 (16%)]\tLoss: 1.266640\n",
            "Train Epoch: 8 [16000/50000 (32%)]\tLoss: 1.199222\n",
            "Train Epoch: 8 [24000/50000 (48%)]\tLoss: 0.531633\n",
            "Train Epoch: 8 [32000/50000 (64%)]\tLoss: 0.648933\n",
            "Train Epoch: 8 [40000/50000 (80%)]\tLoss: 1.207810\n",
            "Train Epoch: 8 [48000/50000 (96%)]\tLoss: 1.238984\n",
            "Train Epoch: 9 [0/50000 (0%)]\tLoss: 1.667759\n",
            "Train Epoch: 9 [8000/50000 (16%)]\tLoss: 0.804942\n",
            "Train Epoch: 9 [16000/50000 (32%)]\tLoss: 0.059435\n",
            "Train Epoch: 9 [24000/50000 (48%)]\tLoss: 0.673294\n",
            "Train Epoch: 9 [32000/50000 (64%)]\tLoss: 0.936796\n",
            "Train Epoch: 9 [40000/50000 (80%)]\tLoss: 1.364898\n",
            "Train Epoch: 9 [48000/50000 (96%)]\tLoss: 0.336956\n"
          ]
        }
      ]
    },
    {
      "cell_type": "markdown",
      "source": [
        "Test final retrained model on the separated test set. The chosen model reaches a test accuracy of 71.70%."
      ],
      "metadata": {
        "id": "8Ek5EgynWbxz"
      }
    },
    {
      "cell_type": "code",
      "source": [
        "test_loss, test_acc = test(cnn, device, test_loader, is_validation=False)\n"
      ],
      "metadata": {
        "id": "A-h7mW8DVWVu",
        "execution": {
          "iopub.status.busy": "2022-05-15T20:49:12.393252Z",
          "iopub.execute_input": "2022-05-15T20:49:12.393503Z",
          "iopub.status.idle": "2022-05-15T20:49:18.166086Z",
          "shell.execute_reply.started": "2022-05-15T20:49:12.393476Z",
          "shell.execute_reply": "2022-05-15T20:49:18.164471Z"
        },
        "trusted": true,
        "colab": {
          "base_uri": "https://localhost:8080/"
        },
        "outputId": "1e7dbe31-61fa-4193-c335-1db6bd19969c"
      },
      "execution_count": null,
      "outputs": [
        {
          "output_type": "stream",
          "name": "stdout",
          "text": [
            "\n",
            "Test set: Average loss: 0.1192, Accuracy: 6858/10000 (69%)\n",
            "\n"
          ]
        }
      ]
    },
    {
      "cell_type": "markdown",
      "source": [
        "# Adversarial attacks"
      ],
      "metadata": {
        "id": "X870fhOiY9vX"
      }
    },
    {
      "cell_type": "markdown",
      "source": [
        "Let's use Cleverhans library to implement fast gradinet method adversatial attacks to our CNN."
      ],
      "metadata": {
        "id": "IweYOr1hAoeo"
      }
    },
    {
      "cell_type": "code",
      "source": [
        "!pip install cleverhans"
      ],
      "metadata": {
        "colab": {
          "base_uri": "https://localhost:8080/"
        },
        "id": "www_ZGZQIh22",
        "outputId": "b792aa53-f786-4e88-a954-466950317db3"
      },
      "execution_count": null,
      "outputs": [
        {
          "output_type": "stream",
          "name": "stdout",
          "text": [
            "Collecting cleverhans\n",
            "  Downloading cleverhans-4.0.0-py3-none-any.whl (92 kB)\n",
            "\u001b[K     |████████████████████████████████| 92 kB 127 kB/s \n",
            "\u001b[?25hRequirement already satisfied: tensorflow-probability in /usr/local/lib/python3.7/dist-packages (from cleverhans) (0.16.0)\n",
            "Requirement already satisfied: easydict in /usr/local/lib/python3.7/dist-packages (from cleverhans) (1.9)\n",
            "Requirement already satisfied: six in /usr/local/lib/python3.7/dist-packages (from cleverhans) (1.15.0)\n",
            "Collecting pycodestyle\n",
            "  Downloading pycodestyle-2.8.0-py2.py3-none-any.whl (42 kB)\n",
            "\u001b[K     |████████████████████████████████| 42 kB 834 kB/s \n",
            "\u001b[?25hRequirement already satisfied: matplotlib in /usr/local/lib/python3.7/dist-packages (from cleverhans) (3.2.2)\n",
            "Requirement already satisfied: numpy in /usr/local/lib/python3.7/dist-packages (from cleverhans) (1.21.6)\n",
            "Collecting mnist\n",
            "  Downloading mnist-0.2.2-py2.py3-none-any.whl (3.5 kB)\n",
            "Requirement already satisfied: scipy in /usr/local/lib/python3.7/dist-packages (from cleverhans) (1.4.1)\n",
            "Requirement already satisfied: joblib in /usr/local/lib/python3.7/dist-packages (from cleverhans) (1.1.0)\n",
            "Requirement already satisfied: absl-py in /usr/local/lib/python3.7/dist-packages (from cleverhans) (1.0.0)\n",
            "Collecting nose\n",
            "  Downloading nose-1.3.7-py3-none-any.whl (154 kB)\n",
            "\u001b[K     |████████████████████████████████| 154 kB 35.4 MB/s \n",
            "\u001b[?25hRequirement already satisfied: cycler>=0.10 in /usr/local/lib/python3.7/dist-packages (from matplotlib->cleverhans) (0.11.0)\n",
            "Requirement already satisfied: pyparsing!=2.0.4,!=2.1.2,!=2.1.6,>=2.0.1 in /usr/local/lib/python3.7/dist-packages (from matplotlib->cleverhans) (3.0.8)\n",
            "Requirement already satisfied: python-dateutil>=2.1 in /usr/local/lib/python3.7/dist-packages (from matplotlib->cleverhans) (2.8.2)\n",
            "Requirement already satisfied: kiwisolver>=1.0.1 in /usr/local/lib/python3.7/dist-packages (from matplotlib->cleverhans) (1.4.2)\n",
            "Requirement already satisfied: typing-extensions in /usr/local/lib/python3.7/dist-packages (from kiwisolver>=1.0.1->matplotlib->cleverhans) (4.2.0)\n",
            "Requirement already satisfied: decorator in /usr/local/lib/python3.7/dist-packages (from tensorflow-probability->cleverhans) (4.4.2)\n",
            "Requirement already satisfied: gast>=0.3.2 in /usr/local/lib/python3.7/dist-packages (from tensorflow-probability->cleverhans) (0.5.3)\n",
            "Requirement already satisfied: dm-tree in /usr/local/lib/python3.7/dist-packages (from tensorflow-probability->cleverhans) (0.1.7)\n",
            "Requirement already satisfied: cloudpickle>=1.3 in /usr/local/lib/python3.7/dist-packages (from tensorflow-probability->cleverhans) (1.3.0)\n",
            "Installing collected packages: pycodestyle, nose, mnist, cleverhans\n",
            "Successfully installed cleverhans-4.0.0 mnist-0.2.2 nose-1.3.7 pycodestyle-2.8.0\n"
          ]
        }
      ]
    },
    {
      "cell_type": "code",
      "source": [
        "from cleverhans.torch.attacks.fast_gradient_method import fast_gradient_method"
      ],
      "metadata": {
        "execution": {
          "iopub.status.busy": "2022-05-15T19:51:46.194368Z",
          "iopub.execute_input": "2022-05-15T19:51:46.194969Z",
          "iopub.status.idle": "2022-05-15T19:51:46.199693Z",
          "shell.execute_reply.started": "2022-05-15T19:51:46.194913Z",
          "shell.execute_reply": "2022-05-15T19:51:46.199024Z"
        },
        "trusted": true,
        "id": "3K4cGj9sAoep"
      },
      "execution_count": null,
      "outputs": []
    },
    {
      "cell_type": "markdown",
      "source": [
        "Define a new test function which implements fast gradient method. It applies the fast gradient method for our cnn to all test data images (the same datsaset used to assess 71.70% accuracy of the model) and then performs the prediction with the original model."
      ],
      "metadata": {
        "id": "wsdFp9BfAoeq"
      }
    },
    {
      "cell_type": "code",
      "source": [
        "def test_adv(cnn, device, test_loader, eps):\n",
        "    cnn.eval()\n",
        "    test_loss = 0\n",
        "    correct = 0\n",
        "    criterion = nn.CrossEntropyLoss()\n",
        "    #with torch.no_grad():\n",
        "    for data, target in test_loader:\n",
        "        data, target = data.to(device), target.to(device)\n",
        "        # Apply fast gradient method\n",
        "        data_fast_grad = fast_gradient_method(cnn, data, eps, np.inf)\n",
        "        \n",
        "        output = cnn(data_fast_grad)\n",
        "        test_loss += criterion(output, target).item()  # sum up batch loss\n",
        "        pred = output.argmax(dim=1, keepdim=True)  # get the index of the max log-probability\n",
        "        correct += pred.eq(target.view_as(pred)).sum().item()\n",
        "\n",
        "    test_loss /= len(test_loader.dataset)\n",
        "    test_acc = correct / len(test_loader.dataset)\n",
        "\n",
        "    print('\\n Test set with adversarial attacks (epsilon = {}): Average loss: {:.4f}, Accuracy: {}/{} ({:.0f}%)\\n'.format(\n",
        "        eps, test_loss, correct, len(test_loader.dataset),\n",
        "        100. * test_acc))\n",
        "    return test_loss, test_acc"
      ],
      "metadata": {
        "id": "a9bwp04sY7QS",
        "execution": {
          "iopub.status.busy": "2022-05-15T20:47:58.784485Z",
          "iopub.execute_input": "2022-05-15T20:47:58.784763Z",
          "iopub.status.idle": "2022-05-15T20:47:58.793537Z",
          "shell.execute_reply.started": "2022-05-15T20:47:58.784720Z",
          "shell.execute_reply": "2022-05-15T20:47:58.792626Z"
        },
        "trusted": true
      },
      "execution_count": null,
      "outputs": []
    },
    {
      "cell_type": "markdown",
      "source": [
        "We test variuos values for epsilon, and it is easy to note that the accuracy is decreasing while epsilon is increasing."
      ],
      "metadata": {
        "id": "j9lM6rU7IzFM"
      }
    },
    {
      "cell_type": "code",
      "source": [
        "epsilon_arr = [0.0001, 0.01, 0.1, 0.3, 0.5]\n",
        "\n",
        "for epsilon in epsilon_arr:\n",
        "    test_adv_loss, test_adv_acc = test_adv(cnn, device, test_loader, eps=epsilon)\n"
      ],
      "metadata": {
        "execution": {
          "iopub.status.busy": "2022-05-15T20:48:04.169865Z",
          "iopub.execute_input": "2022-05-15T20:48:04.170631Z",
          "iopub.status.idle": "2022-05-15T20:48:13.462542Z",
          "shell.execute_reply.started": "2022-05-15T20:48:04.170586Z",
          "shell.execute_reply": "2022-05-15T20:48:13.461710Z"
        },
        "trusted": true,
        "colab": {
          "base_uri": "https://localhost:8080/"
        },
        "id": "6IvXySheAoeq",
        "outputId": "facff857-1f0d-4c89-ff11-559b1c1e3556"
      },
      "execution_count": null,
      "outputs": [
        {
          "output_type": "stream",
          "name": "stdout",
          "text": [
            "\n",
            " Test set with adversarial attacks (epsilon = 0.0001): Average loss: 0.1191, Accuracy: 6855/10000 (69%)\n",
            "\n",
            "\n",
            " Test set with adversarial attacks (epsilon = 0.01): Average loss: 0.1390, Accuracy: 5832/10000 (58%)\n",
            "\n",
            "\n",
            " Test set with adversarial attacks (epsilon = 0.1): Average loss: 0.3473, Accuracy: 2267/10000 (23%)\n",
            "\n",
            "\n",
            " Test set with adversarial attacks (epsilon = 0.3): Average loss: 0.3760, Accuracy: 1723/10000 (17%)\n",
            "\n",
            "\n",
            " Test set with adversarial attacks (epsilon = 0.5): Average loss: 0.3934, Accuracy: 1622/10000 (16%)\n",
            "\n"
          ]
        }
      ]
    },
    {
      "cell_type": "markdown",
      "source": [
        "Here we show side by side 8 images before and after applying the fast gradient method with epsilon=0.1. The noisy images are not too different from the original ones but as we can see from the predicted labels, they are rarely predicted correctly."
      ],
      "metadata": {
        "id": "AuomJF61JbXJ"
      }
    },
    {
      "cell_type": "code",
      "source": [
        "eps = 0.1\n",
        "f, set_im = plt.subplots(batch_size,3, figsize=(10,5*(batch_size)))\n",
        "\n",
        "\n",
        "for data, target in test_loader:\n",
        "        data, target = data.to(device), target.to(device)\n",
        "        data_fast_grad = fast_gradient_method(cnn, data, epsilon, np.inf) # Apply fast gradient method\n",
        "        output = cnn(data)\n",
        "        pred = output.argmax(dim=1, keepdim=True)\n",
        "        output_adv = cnn(data_fast_grad)\n",
        "        pred_adv = output_adv.argmax(dim=1, keepdim=True)\n",
        "        \n",
        "        for j, pattern in enumerate(data):\n",
        "            target_class = classes[target[j]]\n",
        "            pred_calss = classes[pred[j]]\n",
        "            pred_calss_adv = classes[pred_adv[j]]\n",
        "\n",
        "            set_im[j][0].set_title('Original pred: ' + pred_calss)\n",
        "            set_im[j][1].set_title('Target pred: ' + target_class)\n",
        "            set_im[j][2].set_title('Adversarial pred: ' + pred_calss_adv)\n",
        "\n",
        "            \n",
        "            set_im[j][0].imshow(pattern.cpu().detach().permute(1, 2, 0)) # Permute needed to put RGB channel in the end # Permute needed to put RGB channel in the end\n",
        "\n",
        "\n",
        "            set_im[j][2].imshow(data_fast_grad[j].cpu().detach().permute(1, 2, 0))\n",
        "            \n",
        "            # Calculate noise by subtracting the original and modified image and dividing by epsilon\n",
        "            noise = (pattern.cpu().detach().permute(1, 2, 0).numpy() \n",
        "                     - data_fast_grad[j].cpu().detach().permute(1, 2, 0).numpy()) / epsilon\n",
        "            set_im[j][1].imshow(noise)\n",
        "\n",
        "        break\n",
        "plt.show()\n"
      ],
      "metadata": {
        "execution": {
          "iopub.status.busy": "2022-05-15T23:14:58.418573Z",
          "iopub.execute_input": "2022-05-15T23:14:58.418873Z",
          "iopub.status.idle": "2022-05-15T23:15:01.027542Z",
          "shell.execute_reply.started": "2022-05-15T23:14:58.418840Z",
          "shell.execute_reply": "2022-05-15T23:15:01.026840Z"
        },
        "trusted": true,
        "colab": {
          "base_uri": "https://localhost:8080/",
          "height": 1000
        },
        "id": "MiQD4DY9Aoer",
        "outputId": "414c4248-660b-418b-f98d-a9334590499c"
      },
      "execution_count": null,
      "outputs": [
        {
          "output_type": "stream",
          "name": "stderr",
          "text": [
            "Clipping input data to the valid range for imshow with RGB data ([0..1] for floats or [0..255] for integers).\n",
            "Clipping input data to the valid range for imshow with RGB data ([0..1] for floats or [0..255] for integers).\n",
            "Clipping input data to the valid range for imshow with RGB data ([0..1] for floats or [0..255] for integers).\n",
            "Clipping input data to the valid range for imshow with RGB data ([0..1] for floats or [0..255] for integers).\n",
            "Clipping input data to the valid range for imshow with RGB data ([0..1] for floats or [0..255] for integers).\n",
            "Clipping input data to the valid range for imshow with RGB data ([0..1] for floats or [0..255] for integers).\n",
            "Clipping input data to the valid range for imshow with RGB data ([0..1] for floats or [0..255] for integers).\n",
            "Clipping input data to the valid range for imshow with RGB data ([0..1] for floats or [0..255] for integers).\n",
            "Clipping input data to the valid range for imshow with RGB data ([0..1] for floats or [0..255] for integers).\n",
            "Clipping input data to the valid range for imshow with RGB data ([0..1] for floats or [0..255] for integers).\n",
            "Clipping input data to the valid range for imshow with RGB data ([0..1] for floats or [0..255] for integers).\n",
            "Clipping input data to the valid range for imshow with RGB data ([0..1] for floats or [0..255] for integers).\n",
            "Clipping input data to the valid range for imshow with RGB data ([0..1] for floats or [0..255] for integers).\n",
            "Clipping input data to the valid range for imshow with RGB data ([0..1] for floats or [0..255] for integers).\n",
            "Clipping input data to the valid range for imshow with RGB data ([0..1] for floats or [0..255] for integers).\n",
            "Clipping input data to the valid range for imshow with RGB data ([0..1] for floats or [0..255] for integers).\n",
            "Clipping input data to the valid range for imshow with RGB data ([0..1] for floats or [0..255] for integers).\n",
            "Clipping input data to the valid range for imshow with RGB data ([0..1] for floats or [0..255] for integers).\n",
            "Clipping input data to the valid range for imshow with RGB data ([0..1] for floats or [0..255] for integers).\n",
            "Clipping input data to the valid range for imshow with RGB data ([0..1] for floats or [0..255] for integers).\n",
            "Clipping input data to the valid range for imshow with RGB data ([0..1] for floats or [0..255] for integers).\n",
            "Clipping input data to the valid range for imshow with RGB data ([0..1] for floats or [0..255] for integers).\n",
            "Clipping input data to the valid range for imshow with RGB data ([0..1] for floats or [0..255] for integers).\n",
            "Clipping input data to the valid range for imshow with RGB data ([0..1] for floats or [0..255] for integers).\n"
          ]
        },
        {
          "output_type": "display_data",
          "data": {
            "text/plain": [
              "<Figure size 720x2880 with 24 Axes>"
            ],
            "image/png": "[encoded data removed]"
          },
          "metadata": {
            "needs_background": "light"
          }
        }
      ]
    }
  ]
}